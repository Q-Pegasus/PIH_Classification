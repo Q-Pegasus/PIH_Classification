{
 "cells": [
  {
   "cell_type": "code",
   "execution_count": 2,
   "metadata": {},
   "outputs": [],
   "source": [
    "import os\n",
    "import pandas as pd\n",
    "import numpy as np\n",
    "from pathlib import Path\n",
    "import cv2\n",
    "from csv import writer\n"
   ]
  },
  {
   "cell_type": "code",
   "execution_count": 3,
   "metadata": {},
   "outputs": [],
   "source": [
    "def CreateCSV(obj):\n",
    "    # First, open the old CSV file in append mode, hence mentioned as 'a' # Then, for the CSV file, create a file object\n",
    "    with open('labels2.csv', 'a', newline='') as f_object:\n",
    "        # Pass the CSV  file object to the writer() function\n",
    "        writer_object = writer(f_object)\n",
    "        # Result - a writer object\n",
    "        # Pass the data in the list as an argument into the writerow() function\n",
    "        writer_object.writerow([*obj])\n",
    "        # Close the file object\n",
    "        f_object.close()"
   ]
  },
  {
   "cell_type": "code",
   "execution_count": 6,
   "metadata": {},
   "outputs": [],
   "source": [
    "number = 0\n",
    "img_dir = \"/home/sophia/workspace/PIH_Classification/dataset/class_\" + str(number)\n",
    "path = Path(img_dir)\n",
    "files = path.glob('*.png')\n",
    "for number in range(0,9):\n",
    "    img_dir = \"/home/sophia/workspace/PIH_Classification/dataset/class_\" + str(number)\n",
    "    path = Path(img_dir)\n",
    "    files = path.glob('*.png')\n",
    "    for file in files:\n",
    "        img = cv2.imread(str(file))\n",
    "        CreateCSV([str(file), number])\n",
    "    # remove long image path from csv\n",
    "    with open('labels2.csv', 'r') as f:\n",
    "        lines = f.readlines()\n",
    "        f.close()   \n",
    "    # with open('labels2.csv', 'w') as f:\n",
    "    #     for line in lines:\n",
    "    #         f.write(line.replace(\"/home/sophia/workspace\", \"\"))\n",
    "    #     f.close()   "
   ]
  },
  {
   "cell_type": "code",
   "execution_count": 7,
   "metadata": {},
   "outputs": [],
   "source": [
    "\n",
    "df = pd.read_csv('labels2.csv')\n",
    "# interate over rows from first column\n",
    "for index, row in df.iterrows():\n",
    "    img = cv2.imread(row[0])\n",
    "    cv2.imshow('image', img)\n",
    "    cv2.waitKey(0)\n",
    "    cv2.destroyAllWindows()\n",
    "\n",
    "    \n",
    "\n"
   ]
  }
 ],
 "metadata": {
  "kernelspec": {
   "display_name": "env_PiH",
   "language": "python",
   "name": "python3"
  },
  "language_info": {
   "codemirror_mode": {
    "name": "ipython",
    "version": 3
   },
   "file_extension": ".py",
   "mimetype": "text/x-python",
   "name": "python",
   "nbconvert_exporter": "python",
   "pygments_lexer": "ipython3",
   "version": "3.8.10"
  },
  "orig_nbformat": 4
 },
 "nbformat": 4,
 "nbformat_minor": 2
}
